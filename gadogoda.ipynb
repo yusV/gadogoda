{
 "cells": [
  {
   "cell_type": "code",
   "execution_count": 102,
   "metadata": {
    "collapsed": false
   },
   "outputs": [],
   "source": [
    "# from __future__ import print_function\n",
    "import time\n",
    "import matplotlib.pyplot as plt\n",
    "%matplotlib inline\n",
    "import numpy as np\n",
    "import pandas as pd\n",
    "import statsmodels.api as sm\n",
    "from sklearn.metrics import log_loss\n",
    "from sklearn import datasets, svm\n",
    "from sklearn.ensemble import RandomForestClassifier\n",
    "from sklearn.preprocessing import StandardScaler\n",
    "from sklearn.svm import SVC\n",
    "from sklearn.linear_model import LogisticRegression\n",
    "from sklearn.learning_curve import learning_curve, validation_curve\n",
    "from sklearn.grid_search import GridSearchCV\n",
    "from sklearn.cross_validation import train_test_split, cross_val_score\n",
    "from sklearn.metrics import accuracy_score, confusion_matrix\n",
    "from sklearn import cross_validation\n",
    "\n",
    "pd.options.display.max_rows=60 #60\n",
    "pd.options.display.max_columns=20 #20"
   ]
  },
  {
   "cell_type": "code",
   "execution_count": 35,
   "metadata": {
    "collapsed": false
   },
   "outputs": [],
   "source": [
    "# load data \n",
    "\n",
    "trainDF = pd.read_csv(\"~/Documents/kaggle/bnp/data/train.csv\")\n",
    "testDF = pd.read_csv(\"~/Documents/kaggle/bnp/data/test.csv\")"
   ]
  },
  {
   "cell_type": "code",
   "execution_count": 36,
   "metadata": {
    "collapsed": false
   },
   "outputs": [],
   "source": [
    "# eliminate na value more than 120 columns\n",
    "# trainDF = trainDF.dropna(thresh=120)\n",
    "# testDF = testDF.dropna(thresh=120)\n",
    "\n",
    "# just using small slice of data for faster computation\n",
    "trainDF = trainDF[:1000]\n",
    "testDF = testDF[:900]"
   ]
  },
  {
   "cell_type": "code",
   "execution_count": 37,
   "metadata": {
    "collapsed": false
   },
   "outputs": [
    {
     "data": {
      "text/html": [
       "<div>\n",
       "<table border=\"1\" class=\"dataframe\">\n",
       "  <thead>\n",
       "    <tr style=\"text-align: right;\">\n",
       "      <th></th>\n",
       "      <th>ID</th>\n",
       "      <th>v1</th>\n",
       "      <th>v2</th>\n",
       "      <th>v3</th>\n",
       "      <th>v4</th>\n",
       "      <th>v5</th>\n",
       "      <th>v6</th>\n",
       "      <th>v7</th>\n",
       "      <th>v8</th>\n",
       "      <th>v9</th>\n",
       "      <th>...</th>\n",
       "      <th>v122</th>\n",
       "      <th>v123</th>\n",
       "      <th>v124</th>\n",
       "      <th>v125</th>\n",
       "      <th>v126</th>\n",
       "      <th>v127</th>\n",
       "      <th>v128</th>\n",
       "      <th>v129</th>\n",
       "      <th>v130</th>\n",
       "      <th>v131</th>\n",
       "    </tr>\n",
       "  </thead>\n",
       "  <tbody>\n",
       "    <tr>\n",
       "      <th>0</th>\n",
       "      <td>0</td>\n",
       "      <td>1.375465e+00</td>\n",
       "      <td>11.361141</td>\n",
       "      <td>C</td>\n",
       "      <td>4.200778</td>\n",
       "      <td>6.57700</td>\n",
       "      <td>2.081784</td>\n",
       "      <td>1.784386</td>\n",
       "      <td>0.011094</td>\n",
       "      <td>9.523810</td>\n",
       "      <td>...</td>\n",
       "      <td>7.619048</td>\n",
       "      <td>1.815241</td>\n",
       "      <td>1.112270e-07</td>\n",
       "      <td>AF</td>\n",
       "      <td>1.292368</td>\n",
       "      <td>3.903345</td>\n",
       "      <td>1.485925</td>\n",
       "      <td>0</td>\n",
       "      <td>2.333334</td>\n",
       "      <td>1.428572e+00</td>\n",
       "    </tr>\n",
       "    <tr>\n",
       "      <th>1</th>\n",
       "      <td>1</td>\n",
       "      <td>NaN</td>\n",
       "      <td>NaN</td>\n",
       "      <td>C</td>\n",
       "      <td>NaN</td>\n",
       "      <td>NaN</td>\n",
       "      <td>NaN</td>\n",
       "      <td>NaN</td>\n",
       "      <td>NaN</td>\n",
       "      <td>NaN</td>\n",
       "      <td>...</td>\n",
       "      <td>NaN</td>\n",
       "      <td>NaN</td>\n",
       "      <td>NaN</td>\n",
       "      <td>I</td>\n",
       "      <td>NaN</td>\n",
       "      <td>NaN</td>\n",
       "      <td>NaN</td>\n",
       "      <td>0</td>\n",
       "      <td>NaN</td>\n",
       "      <td>NaN</td>\n",
       "    </tr>\n",
       "    <tr>\n",
       "      <th>2</th>\n",
       "      <td>2</td>\n",
       "      <td>-4.903407e-07</td>\n",
       "      <td>8.201529</td>\n",
       "      <td>C</td>\n",
       "      <td>4.544371</td>\n",
       "      <td>6.55010</td>\n",
       "      <td>1.558442</td>\n",
       "      <td>2.467532</td>\n",
       "      <td>0.007164</td>\n",
       "      <td>7.142858</td>\n",
       "      <td>...</td>\n",
       "      <td>5.714286</td>\n",
       "      <td>1.970928</td>\n",
       "      <td>1.412265e-02</td>\n",
       "      <td>AV</td>\n",
       "      <td>1.128724</td>\n",
       "      <td>5.844156</td>\n",
       "      <td>1.475892</td>\n",
       "      <td>0</td>\n",
       "      <td>1.263157</td>\n",
       "      <td>-6.380022e-07</td>\n",
       "    </tr>\n",
       "    <tr>\n",
       "      <th>3</th>\n",
       "      <td>7</td>\n",
       "      <td>2.661870e+00</td>\n",
       "      <td>3.041241</td>\n",
       "      <td>C</td>\n",
       "      <td>1.657216</td>\n",
       "      <td>9.77308</td>\n",
       "      <td>2.078337</td>\n",
       "      <td>1.430855</td>\n",
       "      <td>1.252157</td>\n",
       "      <td>7.959596</td>\n",
       "      <td>...</td>\n",
       "      <td>4.404040</td>\n",
       "      <td>8.163614</td>\n",
       "      <td>1.100329e+00</td>\n",
       "      <td>B</td>\n",
       "      <td>1.988688</td>\n",
       "      <td>1.558753</td>\n",
       "      <td>2.448814</td>\n",
       "      <td>0</td>\n",
       "      <td>5.385474</td>\n",
       "      <td>1.493777e+00</td>\n",
       "    </tr>\n",
       "    <tr>\n",
       "      <th>4</th>\n",
       "      <td>10</td>\n",
       "      <td>1.252822e+00</td>\n",
       "      <td>11.283352</td>\n",
       "      <td>C</td>\n",
       "      <td>4.638388</td>\n",
       "      <td>8.52051</td>\n",
       "      <td>2.302484</td>\n",
       "      <td>3.510159</td>\n",
       "      <td>0.074263</td>\n",
       "      <td>7.612904</td>\n",
       "      <td>...</td>\n",
       "      <td>6.580644</td>\n",
       "      <td>1.325654</td>\n",
       "      <td>2.584588e-01</td>\n",
       "      <td>A</td>\n",
       "      <td>1.863796</td>\n",
       "      <td>2.666478</td>\n",
       "      <td>2.374275</td>\n",
       "      <td>0</td>\n",
       "      <td>0.681672</td>\n",
       "      <td>2.264151e+00</td>\n",
       "    </tr>\n",
       "  </tbody>\n",
       "</table>\n",
       "<p>5 rows × 132 columns</p>\n",
       "</div>"
      ],
      "text/plain": [
       "   ID            v1         v2 v3        v4       v5        v6        v7  \\\n",
       "0   0  1.375465e+00  11.361141  C  4.200778  6.57700  2.081784  1.784386   \n",
       "1   1           NaN        NaN  C       NaN      NaN       NaN       NaN   \n",
       "2   2 -4.903407e-07   8.201529  C  4.544371  6.55010  1.558442  2.467532   \n",
       "3   7  2.661870e+00   3.041241  C  1.657216  9.77308  2.078337  1.430855   \n",
       "4  10  1.252822e+00  11.283352  C  4.638388  8.52051  2.302484  3.510159   \n",
       "\n",
       "         v8        v9      ...           v122      v123          v124  v125  \\\n",
       "0  0.011094  9.523810      ...       7.619048  1.815241  1.112270e-07    AF   \n",
       "1       NaN       NaN      ...            NaN       NaN           NaN     I   \n",
       "2  0.007164  7.142858      ...       5.714286  1.970928  1.412265e-02    AV   \n",
       "3  1.252157  7.959596      ...       4.404040  8.163614  1.100329e+00     B   \n",
       "4  0.074263  7.612904      ...       6.580644  1.325654  2.584588e-01     A   \n",
       "\n",
       "       v126      v127      v128  v129      v130          v131  \n",
       "0  1.292368  3.903345  1.485925     0  2.333334  1.428572e+00  \n",
       "1       NaN       NaN       NaN     0       NaN           NaN  \n",
       "2  1.128724  5.844156  1.475892     0  1.263157 -6.380022e-07  \n",
       "3  1.988688  1.558753  2.448814     0  5.385474  1.493777e+00  \n",
       "4  1.863796  2.666478  2.374275     0  0.681672  2.264151e+00  \n",
       "\n",
       "[5 rows x 132 columns]"
      ]
     },
     "execution_count": 37,
     "metadata": {},
     "output_type": "execute_result"
    }
   ],
   "source": [
    "testDF.head()"
   ]
  },
  {
   "cell_type": "code",
   "execution_count": 38,
   "metadata": {
    "collapsed": false
   },
   "outputs": [
    {
     "data": {
      "text/html": [
       "<div>\n",
       "<table border=\"1\" class=\"dataframe\">\n",
       "  <thead>\n",
       "    <tr style=\"text-align: right;\">\n",
       "      <th></th>\n",
       "      <th>ID</th>\n",
       "      <th>target</th>\n",
       "      <th>v1</th>\n",
       "      <th>v2</th>\n",
       "      <th>v3</th>\n",
       "      <th>v4</th>\n",
       "      <th>v5</th>\n",
       "      <th>v6</th>\n",
       "      <th>v7</th>\n",
       "      <th>v8</th>\n",
       "      <th>...</th>\n",
       "      <th>v122</th>\n",
       "      <th>v123</th>\n",
       "      <th>v124</th>\n",
       "      <th>v125</th>\n",
       "      <th>v126</th>\n",
       "      <th>v127</th>\n",
       "      <th>v128</th>\n",
       "      <th>v129</th>\n",
       "      <th>v130</th>\n",
       "      <th>v131</th>\n",
       "    </tr>\n",
       "  </thead>\n",
       "  <tbody>\n",
       "    <tr>\n",
       "      <th>0</th>\n",
       "      <td>3</td>\n",
       "      <td>1</td>\n",
       "      <td>1.335739</td>\n",
       "      <td>8.727474</td>\n",
       "      <td>C</td>\n",
       "      <td>3.921026</td>\n",
       "      <td>7.915266</td>\n",
       "      <td>2.599278</td>\n",
       "      <td>3.176895</td>\n",
       "      <td>0.012941</td>\n",
       "      <td>...</td>\n",
       "      <td>8.000000</td>\n",
       "      <td>1.989780</td>\n",
       "      <td>0.035754</td>\n",
       "      <td>AU</td>\n",
       "      <td>1.804126</td>\n",
       "      <td>3.113719</td>\n",
       "      <td>2.024285</td>\n",
       "      <td>0</td>\n",
       "      <td>0.636365</td>\n",
       "      <td>2.857144</td>\n",
       "    </tr>\n",
       "    <tr>\n",
       "      <th>1</th>\n",
       "      <td>4</td>\n",
       "      <td>1</td>\n",
       "      <td>NaN</td>\n",
       "      <td>NaN</td>\n",
       "      <td>C</td>\n",
       "      <td>NaN</td>\n",
       "      <td>9.191265</td>\n",
       "      <td>NaN</td>\n",
       "      <td>NaN</td>\n",
       "      <td>2.301630</td>\n",
       "      <td>...</td>\n",
       "      <td>NaN</td>\n",
       "      <td>NaN</td>\n",
       "      <td>0.598896</td>\n",
       "      <td>AF</td>\n",
       "      <td>NaN</td>\n",
       "      <td>NaN</td>\n",
       "      <td>1.957825</td>\n",
       "      <td>0</td>\n",
       "      <td>NaN</td>\n",
       "      <td>NaN</td>\n",
       "    </tr>\n",
       "    <tr>\n",
       "      <th>2</th>\n",
       "      <td>5</td>\n",
       "      <td>1</td>\n",
       "      <td>0.943877</td>\n",
       "      <td>5.310079</td>\n",
       "      <td>C</td>\n",
       "      <td>4.410969</td>\n",
       "      <td>5.326159</td>\n",
       "      <td>3.979592</td>\n",
       "      <td>3.928571</td>\n",
       "      <td>0.019645</td>\n",
       "      <td>...</td>\n",
       "      <td>9.333333</td>\n",
       "      <td>2.477596</td>\n",
       "      <td>0.013452</td>\n",
       "      <td>AE</td>\n",
       "      <td>1.773709</td>\n",
       "      <td>3.922193</td>\n",
       "      <td>1.120468</td>\n",
       "      <td>2</td>\n",
       "      <td>0.883118</td>\n",
       "      <td>1.176472</td>\n",
       "    </tr>\n",
       "    <tr>\n",
       "      <th>3</th>\n",
       "      <td>6</td>\n",
       "      <td>1</td>\n",
       "      <td>0.797415</td>\n",
       "      <td>8.304757</td>\n",
       "      <td>C</td>\n",
       "      <td>4.225930</td>\n",
       "      <td>11.627438</td>\n",
       "      <td>2.097700</td>\n",
       "      <td>1.987549</td>\n",
       "      <td>0.171947</td>\n",
       "      <td>...</td>\n",
       "      <td>7.018256</td>\n",
       "      <td>1.812795</td>\n",
       "      <td>0.002267</td>\n",
       "      <td>CJ</td>\n",
       "      <td>1.415230</td>\n",
       "      <td>2.954381</td>\n",
       "      <td>1.990847</td>\n",
       "      <td>1</td>\n",
       "      <td>1.677108</td>\n",
       "      <td>1.034483</td>\n",
       "    </tr>\n",
       "    <tr>\n",
       "      <th>4</th>\n",
       "      <td>8</td>\n",
       "      <td>1</td>\n",
       "      <td>NaN</td>\n",
       "      <td>NaN</td>\n",
       "      <td>C</td>\n",
       "      <td>NaN</td>\n",
       "      <td>NaN</td>\n",
       "      <td>NaN</td>\n",
       "      <td>NaN</td>\n",
       "      <td>NaN</td>\n",
       "      <td>...</td>\n",
       "      <td>NaN</td>\n",
       "      <td>NaN</td>\n",
       "      <td>NaN</td>\n",
       "      <td>Z</td>\n",
       "      <td>NaN</td>\n",
       "      <td>NaN</td>\n",
       "      <td>NaN</td>\n",
       "      <td>0</td>\n",
       "      <td>NaN</td>\n",
       "      <td>NaN</td>\n",
       "    </tr>\n",
       "  </tbody>\n",
       "</table>\n",
       "<p>5 rows × 133 columns</p>\n",
       "</div>"
      ],
      "text/plain": [
       "   ID  target        v1        v2 v3        v4         v5        v6        v7  \\\n",
       "0   3       1  1.335739  8.727474  C  3.921026   7.915266  2.599278  3.176895   \n",
       "1   4       1       NaN       NaN  C       NaN   9.191265       NaN       NaN   \n",
       "2   5       1  0.943877  5.310079  C  4.410969   5.326159  3.979592  3.928571   \n",
       "3   6       1  0.797415  8.304757  C  4.225930  11.627438  2.097700  1.987549   \n",
       "4   8       1       NaN       NaN  C       NaN        NaN       NaN       NaN   \n",
       "\n",
       "         v8    ...         v122      v123      v124  v125      v126      v127  \\\n",
       "0  0.012941    ...     8.000000  1.989780  0.035754    AU  1.804126  3.113719   \n",
       "1  2.301630    ...          NaN       NaN  0.598896    AF       NaN       NaN   \n",
       "2  0.019645    ...     9.333333  2.477596  0.013452    AE  1.773709  3.922193   \n",
       "3  0.171947    ...     7.018256  1.812795  0.002267    CJ  1.415230  2.954381   \n",
       "4       NaN    ...          NaN       NaN       NaN     Z       NaN       NaN   \n",
       "\n",
       "       v128  v129      v130      v131  \n",
       "0  2.024285     0  0.636365  2.857144  \n",
       "1  1.957825     0       NaN       NaN  \n",
       "2  1.120468     2  0.883118  1.176472  \n",
       "3  1.990847     1  1.677108  1.034483  \n",
       "4       NaN     0       NaN       NaN  \n",
       "\n",
       "[5 rows x 133 columns]"
      ]
     },
     "execution_count": 38,
     "metadata": {},
     "output_type": "execute_result"
    }
   ],
   "source": [
    "trainDF.head()"
   ]
  },
  {
   "cell_type": "code",
   "execution_count": 39,
   "metadata": {
    "collapsed": false
   },
   "outputs": [],
   "source": [
    "# defining join, drop, imputation functions\n",
    "\n",
    "def join(df, col):\n",
    "    df = df.join(pd.get_dummies(df[col], prefix=col))\n",
    "    df = df.drop(col, axis=1)\n",
    "    return df\n",
    "\n",
    "def drop(df, col):\n",
    "    df = df.drop(col, axis=1)\n",
    "    return df\n",
    "\n",
    "# you may adjust this for better result, ex: mean or first quartile or third quartile\n",
    "def fillna(df, col):\n",
    "    df[col] = df[col].fillna(df[col].median(axis=0))\n",
    "    return df"
   ]
  },
  {
   "cell_type": "code",
   "execution_count": 40,
   "metadata": {
    "collapsed": false,
    "scrolled": false
   },
   "outputs": [
    {
     "name": "stderr",
     "output_type": "stream",
     "text": [
      "C:\\Users\\bramantyo.adrian\\Anaconda2\\lib\\site-packages\\ipykernel\\__main__.py:50: FutureWarning: using '-' to provide set differences with Indexes is deprecated, use .difference()\n",
      "C:\\Users\\bramantyo.adrian\\Anaconda2\\lib\\site-packages\\ipykernel\\__main__.py:55: FutureWarning: using '-' to provide set differences with Indexes is deprecated, use .difference()\n"
     ]
    }
   ],
   "source": [
    "# v3, 24 30 31 47 52 66 71 74 75 79 91 107 110\n",
    "# drop 22 38 56 62 113 125 129\n",
    "\n",
    "# list_join = ['v3', 'v24', 'v30', 'v31', 'v47', 'v52', 'v66', 'v71', 'v74', 'v75', 'v79', 'v91', 'v107', 'v110']\n",
    "# list_drop = ['ID', 'v22', 'v38', 'v56', 'v62', 'v113', 'v125', 'v112', 'v129']\n",
    "\n",
    "# you may adjust this for better result\n",
    "list_join = ['v3', 'v24', 'v30', 'v31', 'v47', 'v52', 'v66', 'v71', 'v74', 'v91']\n",
    "list_drop = ['ID','v8', 'v22', 'v23', 'v25','v36','v37', 'v38', 'v46','v51','v53','v54', 'v56', 'v62','v63','v73','v75','v79','v81','v82','v89','v92','v95',\n",
    "             'v105', 'v107','v108','v109','v110', 'v113', 'v112', 'v116','v117','v118','v119','v123','v124', 'v125', 'v128', 'v129']\n",
    "\n",
    "trainDF = join(trainDF, list_join)\n",
    "trainDF = drop(trainDF, list_drop)\n",
    "\n",
    "testDF = join(testDF, list_join)\n",
    "testDF = drop(testDF, list_drop)\n",
    "\n",
    "# get columns index of null value\n",
    "indexTrain = trainDF.isnull().any()\n",
    "indexTest = testDF.isnull().any()\n",
    "\n",
    "# get columns name index\n",
    "columnsTrain = trainDF.columns\n",
    "columnsTest = testDF.columns\n",
    "\n",
    "# create null list\n",
    "list_index_null_train = []\n",
    "list_index_null_test = []\n",
    "list_columns_null_train = []\n",
    "list_columns_null_test = []\n",
    "\n",
    "# append to null list index if nan\n",
    "for i in range(len(indexTrain)):\n",
    "    if indexTrain[i]: list_index_null_train.append(i)\n",
    "\n",
    "for i in range(len(indexTest)):\n",
    "    if indexTest[i]: list_index_null_test.append(i)\n",
    "\n",
    "list_index_null_test = list(set(map(lambda x: x-1, list_index_null_train) + list_index_null_test))\n",
    "\n",
    "# append columns name to list\n",
    "list_columns_null_train = map(lambda x: (columnsTrain[x]), list_index_null_train)\n",
    "list_columns_null_test = map(lambda x: (columnsTest[x]), list_index_null_test)\n",
    "\n",
    "# imputation of null value\n",
    "trainDF = fillna(trainDF, list_columns_null_train)\n",
    "testDF = fillna(testDF, list_columns_null_test)\n",
    "\n",
    "# re-shape test data columns\n",
    "drop_columns = testDF.columns - trainDF.columns\n",
    "testDF = drop(testDF, drop_columns)\n",
    "\n",
    "# re-shape train data columns to same shape as test data\n",
    "drop_columns = []\n",
    "drop_columns = (trainDF.columns - testDF.columns).drop('target')\n",
    "trainDF = drop(trainDF, drop_columns)"
   ]
  },
  {
   "cell_type": "code",
   "execution_count": 41,
   "metadata": {
    "collapsed": false,
    "scrolled": false
   },
   "outputs": [
    {
     "name": "stdout",
     "output_type": "stream",
     "text": [
      "False\n",
      "False\n",
      "[0, 1, 2, 3, 4, 5, 6, 7, 8, 9, 10, 12, 13, 14, 15, 16, 17, 18, 19, 20, 21, 22, 23, 24, 25, 26, 27, 28, 29, 30, 31, 32, 33, 34, 35, 36, 37, 38, 39, 40, 41, 42, 43, 44, 45, 46, 47, 48, 50, 51, 52, 53, 54, 55, 56, 57, 58, 59, 60, 61, 62, 63, 64, 65, 66, 67, 68, 69, 70, 71, 72, 73, 74, 75, 76, 77, 78, 79, 80, 81, 82]\n",
      "[1, 2, 3, 4, 5, 6, 7, 9, 11, 13, 14, 15, 16, 17, 18, 19, 20, 21, 22, 23, 24, 25, 27, 28, 30, 31, 32, 33, 34, 35, 36, 38, 39, 40, 41, 42, 43, 44, 45, 46, 47, 48, 49, 51, 52, 53, 54, 55, 56, 57, 58, 59, 60, 61, 62, 63, 64, 65, 66, 67, 68, 69, 70, 71, 72, 73, 74, 76, 77, 78, 79, 80, 81, 82, 83]\n"
     ]
    }
   ],
   "source": [
    "# validate null value\n",
    "\n",
    "print testDF.isnull().values.any()\n",
    "print trainDF.isnull().values.any()\n",
    "\n",
    "print list_index_null_test\n",
    "print list_index_null_train"
   ]
  },
  {
   "cell_type": "code",
   "execution_count": 42,
   "metadata": {
    "collapsed": false
   },
   "outputs": [
    {
     "name": "stdout",
     "output_type": "stream",
     "text": [
      "normalize using standard scaler done in : \n",
      "0 seconds\n"
     ]
    }
   ],
   "source": [
    "# normalize using standard scaler\n",
    "\n",
    "start = time.time()\n",
    "\n",
    "y_train = trainDF.iloc[:, 0].values\n",
    "x_train = trainDF.ix[:, 'v1':]\n",
    "x_test = testDF.ix[:, 'v1':]\n",
    "\n",
    "sc = StandardScaler()\n",
    "\n",
    "x_train = sc.fit_transform(x_train)\n",
    "x_test = sc.fit_transform(x_test)\n",
    "\n",
    "end = time.time()\n",
    "print(\"normalize using standard scaler done in : %d seconds \" %(end - start))"
   ]
  },
  {
   "cell_type": "code",
   "execution_count": 43,
   "metadata": {
    "collapsed": false
   },
   "outputs": [
    {
     "name": "stdout",
     "output_type": "stream",
     "text": [
      "feature importance done in : \n",
      "[  6.96020777e-03   6.60620344e-03   6.00397549e-03   7.45167155e-03\n",
      "   6.36904989e-03   5.65227692e-03   5.19404714e-03   3.91019012e-02\n",
      "   8.43878928e-03   4.24762112e-02   6.30634445e-03   3.93469938e-02\n",
      "   5.99585669e-03   6.50773419e-03   4.98546471e-03   5.38327052e-03\n",
      "   5.39861386e-03   5.67606417e-03   3.69006202e-02   5.43898768e-03\n",
      "   6.54930039e-03   5.51397547e-03   5.18019764e-03   5.50650617e-03\n",
      "   4.82886251e-03   3.76462746e-02   5.73227592e-03   5.99764360e-03\n",
      "   3.47572751e-02   5.61047472e-03   6.23781613e-03   5.83888901e-03\n",
      "   5.55120309e-03   6.07951311e-03   5.65872970e-03   5.36031357e-03\n",
      "   8.60524049e-02   5.21963604e-03   6.19517765e-03   6.49964841e-03\n",
      "   6.68173751e-03   6.77938707e-03   5.71746649e-03   5.22004497e-03\n",
      "   5.08319174e-03   5.37682016e-03   6.60751195e-03   5.76812121e-03\n",
      "   7.33937844e-03   7.85699772e-03   5.03788810e-03   6.31318256e-03\n",
      "   5.89792276e-03   5.90041811e-03   5.02935163e-03   4.78229089e-03\n",
      "   6.48625428e-03   4.97462208e-03   7.67099428e-03   6.59547064e-03\n",
      "   7.12924615e-03   5.43780627e-03   6.07295261e-03   5.80092789e-03\n",
      "   6.02691133e-03   8.98606664e-03   6.28894050e-03   6.82588148e-03\n",
      "   7.48258745e-03   5.63955691e-03   5.17566989e-03   6.02570599e-03\n",
      "   5.13017944e-03   4.89301690e-03   3.89072508e-02   5.85064464e-03\n",
      "   5.49079602e-03   5.40611462e-03   5.02835214e-03   5.74907454e-03\n",
      "   6.59522299e-03   5.09625613e-03   7.26418194e-03   8.01121109e-04\n",
      "   3.66823095e-03   2.83162287e-03   4.53731013e-03   4.19394845e-03\n",
      "   5.76999297e-03   2.94778963e-04   6.38602395e-05   3.86084359e-03\n",
      "   8.92790898e-04   1.57215170e-03   9.84478786e-04   2.98460638e-03\n",
      "   7.06427550e-03   5.88663154e-03   1.73184016e-04   1.49211311e-02\n",
      "   9.26096220e-04   2.18030644e-03   1.62441126e-03   2.88917178e-03\n",
      "   1.48571281e-02   1.27108294e-03   3.09621842e-03   2.34917251e-03\n",
      "   3.08732943e-03   3.23381179e-03   3.33130091e-03   4.00777573e-03\n",
      "   5.67284861e-03   4.24652107e-03   2.99714513e-03   3.70134939e-03\n",
      "   3.21902088e-03   3.47702237e-03   6.70297089e-03   6.73883700e-03\n",
      "   8.46014543e-03   5.44346801e-03   5.83631023e-03   6.12102297e-03\n",
      "   1.44999010e-05   2.60285540e-05   6.51300772e-03   3.95434359e-03\n",
      "   4.56492508e-03   1.71542455e-04   2.53446793e-03   4.63127728e-03\n",
      "   5.98568324e-03]\n",
      "[ 36   9  11   7  74  25  18  28  99 104  65 120   8  49  58  68   3  48\n",
      "  82  60  96   0  67  41 119 118  40  46   1  59  80  20 126  13  39  56\n",
      "   4  51  10  66  30  38 123  33  62  64  71   2  27  12 132  53  52  97\n",
      "  75  31 122  63  88  47  79  26  42  17 112  34   5  69  29  32  21  23\n",
      "  76 121  19  61  77  16  15  45  35  43  37   6  22  70  72  81  44  50\n",
      "  54  78  14  57  73  24  55 131 128  86 113  87 111 127  91 115  84 117\n",
      " 110 109 116 106 108 114  95 103  85 130 107 101 102  93 105  94 100  92\n",
      "  83  89  98 129  90 125 124]\n",
      "3 seconds\n"
     ]
    }
   ],
   "source": [
    "# feature correlation / importance\n",
    "\n",
    "start = time.time()\n",
    "\n",
    "forest = RandomForestClassifier(n_estimators=1000, random_state=0, n_jobs=-1)\n",
    "forest.fit(x_train, y_train)\n",
    "importances = forest.feature_importances_\n",
    "print(importances)\n",
    "\n",
    "# sort by importance\n",
    "indices = np.argsort(importances)[::-1]\n",
    "print indices\n",
    "\n",
    "end = time.time()\n",
    "print(\"feature importance done in : %d seconds \" %(end - start))\n",
    "# features sort by importances"
   ]
  },
  {
   "cell_type": "code",
   "execution_count": 44,
   "metadata": {
    "collapsed": false,
    "scrolled": false
   },
   "outputs": [
    {
     "data": {
      "text/plain": [
       "['` 1. v49                            0.086052',\n",
       " '` 2. v11                            0.042476',\n",
       " '` 3. v13                            0.039347',\n",
       " '` 4. v9                             0.039102',\n",
       " '` 5. v111                           0.038907',\n",
       " '` 6. v33                            0.037646',\n",
       " '` 7. v20                            0.036901',\n",
       " '` 8. v39                            0.034757',\n",
       " '` 9. v31_C                          0.014921',\n",
       " '`10. v47_G                          0.014857',\n",
       " '`11. v97                            0.008986',\n",
       " '`12. v66_B                          0.008460',\n",
       " '`13. v10                            0.008439',\n",
       " '`14. v70                            0.007857',\n",
       " '`15. v86                            0.007671',\n",
       " '`16. v100                           0.007483',\n",
       " '`17. v4                             0.007452',\n",
       " '`18. v69                            0.007339',\n",
       " '`19. v130                           0.007264',\n",
       " '`20. v88                            0.007129',\n",
       " '`21. v30_G                          0.007064',\n",
       " '`22. target                         0.006960',\n",
       " '`23. v99                            0.006826',\n",
       " '`24. v59                            0.006779',\n",
       " '`25. v66_A                          0.006739',\n",
       " '`26. v52_L                          0.006703',\n",
       " '`27. v58                            0.006682',\n",
       " '`28. v67                            0.006608',\n",
       " '`29. v1                             0.006606',\n",
       " '`30. v87                            0.006595',\n",
       " '`31. v126                           0.006595',\n",
       " '`32. v26                            0.006549',\n",
       " '`33. v74_C                          0.006513',\n",
       " '`34. v15                            0.006508',\n",
       " '`35. v57                            0.006500',\n",
       " '`36. v84                            0.006486',\n",
       " '`37. v5                             0.006369',\n",
       " '`38. v76                            0.006313',\n",
       " '`39. v12                            0.006306',\n",
       " '`40. v98                            0.006289',\n",
       " '`41. v41                            0.006238',\n",
       " '`42. v55                            0.006195',\n",
       " '`43. v71_C                          0.006121',\n",
       " '`44. v44                            0.006080',\n",
       " '`45. v93                            0.006073',\n",
       " '`46. v96                            0.006027',\n",
       " '`47. v103                           0.006026',\n",
       " '`48. v2                             0.006004',\n",
       " '`49. v35                            0.005998',\n",
       " '`50. v14                            0.005996',\n",
       " '`51. v91_F                          0.005986',\n",
       " '`52. v78                            0.005900',\n",
       " '`53. v77                            0.005898',\n",
       " '`54. v31_A                          0.005887',\n",
       " '`55. v114                           0.005851',\n",
       " '`56. v42                            0.005839',\n",
       " '`57. v71_B                          0.005836',\n",
       " '`58. v94                            0.005801',\n",
       " '`59. v24_D                          0.005770',\n",
       " '`60. v68                            0.005768',\n",
       " '`61. v122                           0.005749',\n",
       " '`62. v34                            0.005732',\n",
       " '`63. v60                            0.005717',\n",
       " '`64. v19                            0.005676',\n",
       " '`65. v52_F                          0.005673',\n",
       " '`66. v45                            0.005659',\n",
       " '`67. v6                             0.005652',\n",
       " '`68. v101                           0.005640',\n",
       " '`69. v40                            0.005610',\n",
       " '`70. v43                            0.005551',\n",
       " '`71. v27                            0.005514',\n",
       " '`72. v29                            0.005507',\n",
       " '`73. v115                           0.005491',\n",
       " '`74. v66_C                          0.005443',\n",
       " '`75. v21                            0.005439',\n",
       " '`76. v90                            0.005438',\n",
       " '`77. v120                           0.005406',\n",
       " '`78. v18                            0.005399',\n",
       " '`79. v17                            0.005383',\n",
       " '`80. v65                            0.005377',\n",
       " '`81. v48                            0.005360',\n",
       " '`82. v61                            0.005220',\n",
       " '`83. v50                            0.005220',\n",
       " '`84. v7                             0.005194',\n",
       " '`85. v28                            0.005180',\n",
       " '`86. v102                           0.005176',\n",
       " '`87. v104                           0.005130',\n",
       " '`88. v127                           0.005096',\n",
       " '`89. v64                            0.005083',\n",
       " '`90. v72                            0.005038',\n",
       " '`91. v80                            0.005029',\n",
       " '`92. v121                           0.005028',\n",
       " '`93. v16                            0.004985',\n",
       " '`94. v85                            0.004975',\n",
       " '`95. v106                           0.004893',\n",
       " '`96. v32                            0.004829',\n",
       " '`97. v83                            0.004782',\n",
       " '`98. v91_E                          0.004631',\n",
       " '`99. v91_B                          0.004565',\n",
       " '`100. v24_B                          0.004537',\n",
       " '`101. v52_G                          0.004247',\n",
       " '`102. v24_C                          0.004194',\n",
       " '`103. v52_E                          0.004008',\n",
       " '`104. v91_A                          0.003954',\n",
       " '`105. v30_B                          0.003861',\n",
       " '`106. v52_I                          0.003701',\n",
       " '`107. v3_C                           0.003668',\n",
       " '`108. v52_K                          0.003477',\n",
       " '`109. v52_D                          0.003331',\n",
       " '`110. v52_C                          0.003234',\n",
       " '`111. v52_J                          0.003219',\n",
       " '`112. v47_J                          0.003096',\n",
       " '`113. v52_B                          0.003087',\n",
       " '`114. v52_H                          0.002997',\n",
       " '`115. v30_F                          0.002985',\n",
       " '`116. v47_F                          0.002889',\n",
       " '`117. v24_A                          0.002832',\n",
       " '`118. v91_D                          0.002534',\n",
       " '`119. v52_A                          0.002349',\n",
       " '`120. v47_D                          0.002180',\n",
       " '`121. v47_E                          0.001624',\n",
       " '`122. v30_D                          0.001572',\n",
       " '`123. v47_I                          0.001271',\n",
       " '`124. v30_E                          0.000984',\n",
       " '`125. v47_C                          0.000926',\n",
       " '`126. v30_C                          0.000893',\n",
       " '`127. v131                           0.000801',\n",
       " '`128. v24_E                          0.000295',\n",
       " '`129. v31_B                          0.000173',\n",
       " '`130. v91_C                          0.000172',\n",
       " '`131. v30_A                          0.000064',\n",
       " '`132. v74_B                          0.000026',\n",
       " '`133. v71_F                          0.000014']"
      ]
     },
     "execution_count": 44,
     "metadata": {},
     "output_type": "execute_result"
    }
   ],
   "source": [
    "# print all features that have correlation more than 0.01\n",
    "# you may adjust this parameter for better result\n",
    "\n",
    "labels = trainDF.columns\n",
    "map(lambda x: \"`%2d. %-*s %f\" % (x + 1, 30, labels[indices[x]], importances[indices[x]]), range(x_train.shape[1]))\n",
    "\n",
    "# for f in range(x_train.shape[1]):\n",
    "#     print(\"%2d. %-*s %f\" % (f + 1, 30, labels[indices[f]], importances[indices[f]]))"
   ]
  },
  {
   "cell_type": "code",
   "execution_count": 45,
   "metadata": {
    "collapsed": false
   },
   "outputs": [
    {
     "name": "stderr",
     "output_type": "stream",
     "text": [
      "C:\\Users\\bramantyo.adrian\\Anaconda2\\lib\\site-packages\\sklearn\\utils\\__init__.py:93: DeprecationWarning: Function transform is deprecated; Support to use estimators as feature selectors will be removed in version 0.19. Use SelectFromModel instead.\n",
      "  warnings.warn(msg, category=DeprecationWarning)\n",
      "C:\\Users\\bramantyo.adrian\\Anaconda2\\lib\\site-packages\\sklearn\\utils\\__init__.py:93: DeprecationWarning: Function transform is deprecated; Support to use estimators as feature selectors will be removed in version 0.19. Use SelectFromModel instead.\n",
      "  warnings.warn(msg, category=DeprecationWarning)\n"
     ]
    },
    {
     "name": "stdout",
     "output_type": "stream",
     "text": [
      "adjust features done in : \n",
      "2 seconds\n"
     ]
    }
   ],
   "source": [
    "# you may adjust this parameter\n",
    "\n",
    "start = time.time()\n",
    "\n",
    "x_train = forest.transform(x_train, threshold=.007)\n",
    "x_test = forest.transform(x_test, threshold=.007)\n",
    "\n",
    "end = time.time()\n",
    "print('adjust features done in : %d seconds'%(end - start))"
   ]
  },
  {
   "cell_type": "code",
   "execution_count": 46,
   "metadata": {
    "collapsed": false
   },
   "outputs": [
    {
     "name": "stdout",
     "output_type": "stream",
     "text": [
      "[ 89 179 269 359 449 539 629 719 809 899]\n",
      "[ 1.  1.  1.  1.  1.  1.  1.  1.  1.  1.]\n"
     ]
    },
    {
     "data": {
      "image/png": "[encoded data removed]",
      "text/plain": [
       "<matplotlib.figure.Figure at 0x22a5a828>"
      ]
     },
     "metadata": {},
     "output_type": "display_data"
    },
    {
     "name": "stdout",
     "output_type": "stream",
     "text": [
      "random forest traine done in : \n",
      "127 seconds\n"
     ]
    }
   ],
   "source": [
    "# you can change model and run another analysis on another cell\n",
    "# ex using another kernel or bagging, boster, etc\n",
    "start = time.time()\n",
    "\n",
    "svm = SVC(kernel='rbf', C=100.0, gamma=0.1, random_state=0)\n",
    "lgr = LogisticRegression(C=1.0)\n",
    "rfc = RandomForestClassifier(n_estimators=1000)\n",
    "\n",
    "train_sizes, train_scores, test_scores = learning_curve(estimator=rfc, X=x_train, y=y_train, train_sizes=np.linspace(0.1, 1.0, 10), cv=10, n_jobs=-1)\n",
    "\n",
    "train_mean = np.mean(train_scores, axis=1)\n",
    "train_std = np.std(train_scores, axis=1)\n",
    "test_mean = np.mean(test_scores, axis=1)\n",
    "test_std = np.std(test_scores, axis=1)\n",
    "\n",
    "print train_sizes\n",
    "print train_mean\n",
    "\n",
    "plt.plot(train_sizes, train_mean, color='blue', marker='o', markersize=5, label='training accuracy')\n",
    "# plt.fill_between(train_sizes, train_mean + train_std, train_mean - train_std, alpha=0.15, color='blue')\n",
    "plt.plot(train_sizes, test_mean, color='green', linestyle='--', marker='s', markersize=5, label='validation accuracy')\n",
    "# plt.fill_between(train_sizes, test_mean + test_std, test_mean - test_std, alpha=0.15, color='green')\n",
    "plt.grid()\n",
    "plt.xlabel('Number of training samples')\n",
    "plt.ylabel('Accuracy')\n",
    "plt.legend(loc='upper right')\n",
    "plt.ylim([0.7, 1])\n",
    "plt.show()\n",
    "\n",
    "end = time.time()\n",
    "print('random forest traine done in : %d seconds'%(end - start))"
   ]
  },
  {
   "cell_type": "code",
   "execution_count": 47,
   "metadata": {
    "collapsed": false
   },
   "outputs": [
    {
     "name": "stdout",
     "output_type": "stream",
     "text": [
      "[ 89 179 269 359 449 539 629 719 809 899]\n",
      "[ 0.98988764  0.99497207  0.99070632  0.99108635  0.98641425  0.98367347\n",
      "  0.98108108  0.98011127  0.9736712   0.97119021]\n"
     ]
    },
    {
     "data": {
      "image/png": "[encoded data removed]",
      "text/plain": [
       "<matplotlib.figure.Figure at 0x246dd828>"
      ]
     },
     "metadata": {},
     "output_type": "display_data"
    },
    {
     "name": "stdout",
     "output_type": "stream",
     "text": [
      "svm traine done in : \n",
      "3 seconds\n"
     ]
    }
   ],
   "source": [
    "# same as above but using svm\n",
    "start = time.time()\n",
    "train_sizes, train_scores, test_scores = learning_curve(estimator=svm, X=x_train, y=y_train, train_sizes=np.linspace(0.1, 1.0, 10), cv=10, n_jobs=-1)\n",
    "\n",
    "train_mean = np.mean(train_scores, axis=1)\n",
    "train_std = np.std(train_scores, axis=1)\n",
    "test_mean = np.mean(test_scores, axis=1)\n",
    "test_std = np.std(test_scores, axis=1)\n",
    "\n",
    "print train_sizes\n",
    "print train_mean\n",
    "\n",
    "plt.plot(train_sizes, train_mean, color='blue', marker='o', markersize=5, label='training accuracy')\n",
    "# plt.fill_between(train_sizes, train_mean + train_std, train_mean - train_std, alpha=0.15, color='blue')\n",
    "plt.plot(train_sizes, test_mean, color='green', linestyle='--', marker='s', markersize=5, label='validation accuracy')\n",
    "# plt.fill_between(train_sizes, test_mean + test_std, test_mean - test_std, alpha=0.15, color='green')\n",
    "plt.grid()\n",
    "plt.xlabel('Number of training samples')\n",
    "plt.ylabel('Accuracy')\n",
    "plt.legend(loc='upper right')\n",
    "plt.ylim([0.65, 1])\n",
    "plt.show()\n",
    "\n",
    "\n",
    "end = time.time()\n",
    "print('svm traine done in : %d seconds'%(end - start))"
   ]
  },
  {
   "cell_type": "code",
   "execution_count": 48,
   "metadata": {
    "collapsed": false
   },
   "outputs": [
    {
     "data": {
      "image/png": "[encoded data removed]",
      "text/plain": [
       "<matplotlib.figure.Figure at 0x3c3902e8>"
      ]
     },
     "metadata": {},
     "output_type": "display_data"
    },
    {
     "name": "stdout",
     "output_type": "stream",
     "text": [
      "svm analyze parameter done in : \n",
      "4 seconds\n"
     ]
    }
   ],
   "source": [
    "# analyze parameter on svm \n",
    "start = time.time()\n",
    "\n",
    "param_range = [.001, .01, .1, 1., 10., 100.]\n",
    "train_scores, test_scores = validation_curve(estimator=svm, X=x_train, y=y_train, param_name='C', param_range=param_range, cv=10)\n",
    "\n",
    "train_mean = np.mean(train_scores, axis=1)\n",
    "train_std= np.std(train_scores, axis=1)\n",
    "test_mean = np.mean(test_scores, axis=1)\n",
    "test_std = np.std(test_scores, axis=1)\n",
    "\n",
    "plt.plot(param_range, train_mean, color='blue', label='training accuracy')\n",
    "plt.plot(param_range, test_mean, color='green', linestyle='--', label='validation accuracy')\n",
    "plt.xscale('log')\n",
    "plt.grid()\n",
    "plt.xlabel('param')\n",
    "plt.ylabel('accuracy')\n",
    "plt.legend(loc='upper right')\n",
    "plt.ylim([0.7, 1])\n",
    "plt.show()\n",
    "\n",
    "\n",
    "end = time.time()\n",
    "print('svm analyze parameter done in : %d seconds'%(end - start))"
   ]
  },
  {
   "cell_type": "code",
   "execution_count": 49,
   "metadata": {
    "collapsed": false
   },
   "outputs": [
    {
     "data": {
      "image/png": "[encoded data removed]",
      "text/plain": [
       "<matplotlib.figure.Figure at 0x3c6a9f98>"
      ]
     },
     "metadata": {},
     "output_type": "display_data"
    },
    {
     "name": "stdout",
     "output_type": "stream",
     "text": [
      "analyze parameter on random forest done in : \n",
      "51 seconds\n"
     ]
    }
   ],
   "source": [
    "# analyze parameter on random forest\n",
    "start = time.time()\n",
    "\n",
    "estimator_range = [10, 100, 1000, 2000]\n",
    "train_scores, test_scores = validation_curve(estimator=rfc, X=x_train, y=y_train, param_name='n_estimators', param_range=estimator_range, cv=10, n_jobs=-1)\n",
    "\n",
    "train_mean = np.mean(train_scores, axis=1)\n",
    "train_std= np.std(train_scores, axis=1)\n",
    "test_mean = np.mean(test_scores, axis=1)\n",
    "test_std = np.std(test_scores, axis=1)\n",
    "\n",
    "plt.plot(estimator_range, train_mean, color='blue', label='training accuracy')\n",
    "plt.plot(estimator_range, test_mean, color='green', linestyle='--', label='validation accuracy')\n",
    "plt.xscale('log')\n",
    "plt.grid()\n",
    "plt.xlabel('param')\n",
    "plt.ylabel('accuracy')\n",
    "plt.legend(loc='upper right')\n",
    "plt.ylim([0.7, 1])\n",
    "plt.show()\n",
    "\n",
    "\n",
    "end = time.time()\n",
    "print('analyze parameter on random forest done in : %d seconds'%(end - start))"
   ]
  },
  {
   "cell_type": "code",
   "execution_count": 50,
   "metadata": {
    "collapsed": false
   },
   "outputs": [],
   "source": [
    "# create list contain parameter of svm and randomforest\n",
    "param_grid = [{'C': param_range,\n",
    "              'kernel': ['linear']},\n",
    "             {'C': param_range,\n",
    "             'gamma': param_range,\n",
    "             'kernel': ['rbf']}]\n",
    "param_grid_estimator = [{'n_estimators': estimator_range,\n",
    "                        'criterion': ['gini', 'entropy']}]\n"
   ]
  },
  {
   "cell_type": "code",
   "execution_count": 85,
   "metadata": {
    "collapsed": false,
    "scrolled": true
   },
   "outputs": [
    {
     "name": "stdout",
     "output_type": "stream",
     "text": [
      "-0.499718986833\n",
      "{'kernel': 'rbf', 'C': 1.0, 'gamma': 0.01}\n",
      "search best parameter for svm done in : 1130 seconds\n"
     ]
    }
   ],
   "source": [
    "# search the best parameter for svm\n",
    "start = time.time()\n",
    "\n",
    "gs = GridSearchCV(estimator=svm, param_grid=param_grid, scoring='log_loss', cv=10, n_jobs=-1)\n",
    "gs = gs.fit(x_train, y_train)\n",
    "print(gs.best_score_)\n",
    "print(gs.best_params_)\n",
    "\n",
    "end = time.time()\n",
    "print('search best parameter for svm done in : %d seconds'%(end - start))"
   ]
  },
  {
   "cell_type": "code",
   "execution_count": 83,
   "metadata": {
    "collapsed": false
   },
   "outputs": [
    {
     "name": "stdout",
     "output_type": "stream",
     "text": [
      "-0.489826924703\n",
      "{'n_estimators': 2000, 'criterion': 'entropy'}\n",
      "search best parameter for random forest done in : 109 seconds\n"
     ]
    }
   ],
   "source": [
    "# search the best parameter for randomforest\n",
    "start = time.time()\n",
    "\n",
    "gs = GridSearchCV(estimator=rfc, param_grid=param_grid_estimator, scoring='log_loss', cv=10, n_jobs=-1)\n",
    "gs = gs.fit(x_train, y_train)\n",
    "print(gs.best_score_)\n",
    "print(gs.best_params_)\n",
    "\n",
    "end = time.time()\n",
    "print('search best parameter for random forest done in : %d seconds'%(end - start))"
   ]
  },
  {
   "cell_type": "code",
   "execution_count": 84,
   "metadata": {
    "collapsed": false
   },
   "outputs": [
    {
     "name": "stdout",
     "output_type": "stream",
     "text": [
      "-0.489919910058\n",
      "{'n_estimators': 2000, 'criterion': 'entropy'}\n"
     ]
    }
   ],
   "source": [
    "# search the best parameter for randomforest\n",
    "gs = GridSearchCV(estimator=rfc, param_grid=param_grid_estimator, scoring='log_loss', cv=10, n_jobs=-1)\n",
    "gs = gs.fit(x_train, y_train)\n",
    "print(gs.best_score_)\n",
    "print(gs.best_params_)"
   ]
  },
  {
   "cell_type": "code",
   "execution_count": 105,
   "metadata": {
    "collapsed": false
   },
   "outputs": [
    {
     "name": "stdout",
     "output_type": "stream",
     "text": [
      "with 10 estimator and gini index total log loss : 1.122377\n",
      "with 141 estimator and gini index total log loss : 0.476383\n",
      "with 272 estimator and gini index total log loss : 0.473436\n",
      "with 403 estimator and gini index total log loss : 0.473010\n",
      "with 534 estimator and gini index total log loss : 0.470286\n",
      "with 665 estimator and gini index total log loss : 0.472313\n",
      "with 796 estimator and gini index total log loss : 0.472405\n",
      "with 927 estimator and gini index total log loss : 0.474802\n",
      "with 1058 estimator and gini index total log loss : 0.470108\n",
      "with 1189 estimator and gini index total log loss : 0.468608\n",
      "with 1320 estimator and gini index total log loss : 0.471329\n",
      "with 1451 estimator and gini index total log loss : 0.469615\n",
      "with 1582 estimator and gini index total log loss : 0.470298\n",
      "with 1713 estimator and gini index total log loss : 0.469917\n",
      "with 1844 estimator and gini index total log loss : 0.470705\n",
      "with 1975 estimator and gini index total log loss : 0.470465\n",
      "with 2106 estimator and gini index total log loss : 0.471400\n",
      "with 2237 estimator and gini index total log loss : 0.469667\n",
      "with 2368 estimator and gini index total log loss : 0.470809\n",
      "with 2500 estimator and gini index total log loss : 0.471792\n",
      "best logistic loss : 0.468608\n",
      "with 10 estimator and entropy index total log loss : 0.670956\n",
      "with 141 estimator and entropy index total log loss : 0.472802\n",
      "with 272 estimator and entropy index total log loss : 0.471912\n",
      "with 403 estimator and entropy index total log loss : 0.471095\n",
      "with 534 estimator and entropy index total log loss : 0.471384\n",
      "with 665 estimator and entropy index total log loss : 0.470748\n",
      "with 796 estimator and entropy index total log loss : 0.470080\n",
      "with 927 estimator and entropy index total log loss : 0.467860\n",
      "with 1058 estimator and entropy index total log loss : 0.471069\n",
      "with 1189 estimator and entropy index total log loss : 0.471362\n",
      "with 1320 estimator and entropy index total log loss : 0.472250\n",
      "with 1451 estimator and entropy index total log loss : 0.469492\n",
      "with 1582 estimator and entropy index total log loss : 0.470294\n",
      "with 1713 estimator and entropy index total log loss : 0.468774\n",
      "with 1844 estimator and entropy index total log loss : 0.469513\n",
      "with 1975 estimator and entropy index total log loss : 0.468792\n",
      "with 2106 estimator and entropy index total log loss : 0.471142\n",
      "with 2237 estimator and entropy index total log loss : 0.470827\n",
      "with 2368 estimator and entropy index total log loss : 0.469158\n",
      "with 2500 estimator and entropy index total log loss : 0.470275\n",
      "best logistic loss : 0.467860\n"
     ]
    }
   ],
   "source": [
    "# re-define classifier\n",
    "rfc = RandomForestClassifier(n_estimators=1000, criterion='gini')\n",
    "svm = SVC(kernel='rbf', C=100.0, gamma=0.1, random_state=0, probability=True)\n",
    "\n",
    "# split train data for cross validation\n",
    "xtrain, xtest, ytrain, ytest = cross_validation.train_test_split(x_train, y_train, test_size=0.4, random_state=0)\n",
    "ypredict = rfc.fit(xtrain, ytrain).predict_proba(xtest)\n",
    "# log_loss(ytest, ypredict)\n",
    "\n",
    "# re-define estimator_range for random forest classifier\n",
    "estimator_range = np.linspace(10, 2500, 20).astype(int) # [10, 100, 1000, 2000]\n",
    "\n",
    "logloss = 9999\n",
    "\n",
    "for x in estimator_range: \n",
    "    rfc = RandomForestClassifier(n_estimators=x, criterion='gini')\n",
    "    ypredict = rfc.fit(xtrain, ytrain).predict_proba(xtest)\n",
    "    loss = log_loss(ytest, ypredict)\n",
    "    print \"with %d estimator and gini index total log loss : %f\" %(x, log_loss(ytest, ypredict))\n",
    "    if logloss > loss: logloss = loss\n",
    "\n",
    "print \"best logistic loss : %f\" %logloss\n",
    "\n",
    "logloss = 9999\n",
    "\n",
    "for x in estimator_range: \n",
    "    rfc = RandomForestClassifier(n_estimators=x, criterion='entropy')\n",
    "    ypredict = rfc.fit(xtrain, ytrain).predict_proba(xtest)\n",
    "    loss = log_loss(ytest, ypredict)\n",
    "    print \"with %d estimator and entropy index total log loss : %f\" %(x, log_loss(ytest, ypredict))\n",
    "    if logloss > loss: logloss = loss\n",
    "        \n",
    "print \"best logistic loss : %f\" % logloss"
   ]
  },
  {
   "cell_type": "code",
   "execution_count": 103,
   "metadata": {
    "collapsed": false
   },
   "outputs": [
    {
     "data": {
      "text/plain": [
       "0.62425978796145665"
      ]
     },
     "execution_count": 103,
     "metadata": {},
     "output_type": "execute_result"
    }
   ],
   "source": [
    "log_loss([1, 0, 1, 1], [.12, .1, .99, .77])"
   ]
  },
  {
   "cell_type": "code",
   "execution_count": null,
   "metadata": {
    "collapsed": true
   },
   "outputs": [],
   "source": []
  }
 ],
 "metadata": {
  "kernelspec": {
   "display_name": "Python 2",
   "language": "python",
   "name": "python2"
  },
  "language_info": {
   "codemirror_mode": {
    "name": "ipython",
    "version": 2
   },
   "file_extension": ".py",
   "mimetype": "text/x-python",
   "name": "python",
   "nbconvert_exporter": "python",
   "pygments_lexer": "ipython2",
   "version": "2.7.11"
  }
 },
 "nbformat": 4,
 "nbformat_minor": 0
}
